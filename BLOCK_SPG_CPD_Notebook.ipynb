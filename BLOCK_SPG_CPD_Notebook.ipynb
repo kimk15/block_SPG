{
 "cells": [
  {
   "cell_type": "code",
   "execution_count": 31,
   "metadata": {},
   "outputs": [],
   "source": [
    "%reload_ext autoreload\n",
    "%autoreload 2\n",
    "import matplotlib.pyplot as plt\n",
    "import tensorly.random as tl_rand\n",
    "import tensorly.kruskal_tensor as tl_kruskal\n",
    "import numpy as np\n",
    "import time\n",
    "\n",
    "from BLOCK_SPG_CPD import bras_CPD\n",
    "from BLOCK_SPG_CPD import ada_CPD"
   ]
  },
  {
   "cell_type": "code",
   "execution_count": 32,
   "metadata": {},
   "outputs": [],
   "source": [
    "# Set up\n",
    "rank = 100\n",
    "A_true = tl_rand.random_kruskal((300,300,300), rank, full=False)\n",
    "X = tl_kruskal.kruskal_to_tensor(A_true)\n",
    "B = 20\n",
    "b = 10**-6\n",
    "eps = 0\n",
    "eta = 1\n",
    "num_iterations = 30*5000"
   ]
  },
  {
   "cell_type": "code",
   "execution_count": null,
   "metadata": {
    "scrolled": true
   },
   "outputs": [
    {
     "name": "stdout",
     "output_type": "stream",
     "text": [
      "Iteration: 999\n",
      "Iteration: 1999\n",
      "Iteration: 2999\n",
      "Iteration: 3999\n",
      "Iteration: 4999\n",
      "Iteration: 5999\n",
      "Iteration: 6999\n",
      "Iteration: 7999\n",
      "Iteration: 8999\n",
      "Iteration: 9999\n",
      "Iteration: 10999\n",
      "Iteration: 11999\n",
      "Iteration: 12999\n",
      "Iteration: 13999\n",
      "Iteration: 14999\n",
      "Iteration: 15999\n",
      "Iteration: 16999\n",
      "Iteration: 17999\n",
      "Iteration: 18999\n",
      "Iteration: 19999\n",
      "Iteration: 20999\n",
      "Iteration: 21999\n",
      "Iteration: 22999\n",
      "Iteration: 23999\n",
      "Iteration: 24999\n",
      "Iteration: 25999\n",
      "Iteration: 26999\n",
      "Iteration: 27999\n",
      "Iteration: 28999\n",
      "Iteration: 29999\n",
      "Iteration: 30999\n",
      "Iteration: 31999\n",
      "Iteration: 32999\n",
      "Iteration: 33999\n",
      "Iteration: 34999\n",
      "Iteration: 35999\n",
      "Iteration: 36999\n",
      "Iteration: 37999\n",
      "Iteration: 38999\n",
      "Iteration: 39999\n",
      "Iteration: 40999\n",
      "Iteration: 41999\n",
      "Iteration: 42999\n",
      "Iteration: 43999\n",
      "Iteration: 44999\n",
      "Iteration: 45999\n",
      "Iteration: 46999\n",
      "Iteration: 47999\n",
      "Iteration: 48999\n",
      "Iteration: 49999\n",
      "Iteration: 50999\n",
      "Iteration: 51999\n",
      "Iteration: 52999\n",
      "Iteration: 53999\n",
      "Iteration: 54999\n",
      "Iteration: 55999\n",
      "Iteration: 56999\n",
      "Iteration: 57999\n",
      "Iteration: 58999\n",
      "Iteration: 59999\n",
      "Iteration: 60999\n"
     ]
    }
   ],
   "source": [
    "# Run ada_CPD update\n",
    "A, cost, mse = ada_CPD(A_true, X, rank, B, eta, b, eps, num_iterations)"
   ]
  },
  {
   "cell_type": "code",
   "execution_count": null,
   "metadata": {},
   "outputs": [],
   "source": [
    "# Save data\n",
    "np.save(\"cost_ada.txt\", cost)\n",
    "np.save(\"mse_ada.txt\", mse)"
   ]
  },
  {
   "cell_type": "code",
   "execution_count": null,
   "metadata": {},
   "outputs": [],
   "source": [
    "x = range(150001)\n",
    "plt.title('Residual error vs # iterations')\n",
    "plt.xlabel('Iterations')\n",
    "plt.ylabel('Residual Error')\n",
    "plt.plot(x, cost)  \n",
    "plt.figure()"
   ]
  },
  {
   "cell_type": "code",
   "execution_count": null,
   "metadata": {},
   "outputs": [],
   "source": [
    "x = range(150001)\n",
    "plt.title('MSE vs # iterations')\n",
    "plt.xlabel('Iterations')\n",
    "plt.ylabel('MSE')\n",
    "plt.plot(x, mse)  \n",
    "plt.figure()"
   ]
  },
  {
   "cell_type": "code",
   "execution_count": null,
   "metadata": {},
   "outputs": [],
   "source": [
    "# Set up\n",
    "rank = 100\n",
    "A_true = tl_rand.random_kruskal((300,300,300), rank, full=False)\n",
    "X = tl_kruskal.kruskal_to_tensor(A_true)\n",
    "alphas = [0.1, 0.05, 0.01]\n",
    "B = 20\n",
    "beta = 10**-6\n",
    "num_iterations = 30*5000"
   ]
  },
  {
   "cell_type": "code",
   "execution_count": null,
   "metadata": {},
   "outputs": [],
   "source": [
    "# Run bras_cpd update\n",
    "costs = []\n",
    "mses = []\n",
    "for alpha in alphas:\n",
    "    A, error, mse = bras_CPD(A_true, X, rank, B, alpha, beta, num_iterations)\n",
    "    costs.append(error)\n",
    "    mses.append(mse)"
   ]
  },
  {
   "cell_type": "code",
   "execution_count": null,
   "metadata": {},
   "outputs": [],
   "source": [
    "# Save error/mse/A\n",
    "np.save(\"cost_bras.txt\", np.array(costs))\n",
    "np.save(\"mse_bras.txt\", np.array(mses))"
   ]
  },
  {
   "cell_type": "code",
   "execution_count": null,
   "metadata": {},
   "outputs": [],
   "source": [
    "costs = np.load(\"cost_bras.txt.npy\")\n",
    "mses = np.load(\"mse_bras.txt.npy\")"
   ]
  },
  {
   "cell_type": "code",
   "execution_count": null,
   "metadata": {},
   "outputs": [],
   "source": [
    "for i in range(3):\n",
    "    x = range(150001)\n",
    "    plt.title('Residual error vs # iterations')\n",
    "    plt.xlabel('Iterations')\n",
    "    plt.ylabel('Residual Error')\n",
    "    plt.plot(x, costs[i])  \n",
    "plt.figure()"
   ]
  },
  {
   "cell_type": "code",
   "execution_count": null,
   "metadata": {},
   "outputs": [],
   "source": [
    "for i in range(3):\n",
    "    x = range(150001)\n",
    "    plt.title('Residual error vs # iterations')\n",
    "    plt.xlabel('Iterations')\n",
    "    plt.ylabel('Residual Error')\n",
    "    plt.plot(x, mses[i])  \n",
    "plt.figure()"
   ]
  },
  {
   "cell_type": "code",
   "execution_count": null,
   "metadata": {},
   "outputs": [],
   "source": []
  }
 ],
 "metadata": {
  "kernelspec": {
   "display_name": "Python 3",
   "language": "python",
   "name": "python3"
  },
  "language_info": {
   "codemirror_mode": {
    "name": "ipython",
    "version": 3
   },
   "file_extension": ".py",
   "mimetype": "text/x-python",
   "name": "python",
   "nbconvert_exporter": "python",
   "pygments_lexer": "ipython3",
   "version": "3.7.3"
  }
 },
 "nbformat": 4,
 "nbformat_minor": 2
}
