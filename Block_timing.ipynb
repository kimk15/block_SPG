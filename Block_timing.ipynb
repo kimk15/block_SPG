{
 "cells": [
  {
   "cell_type": "code",
   "execution_count": 7,
   "metadata": {},
   "outputs": [],
   "source": [
    "%reload_ext autoreload\n",
    "%autoreload 2\n",
    "import matplotlib.pyplot as plt\n",
    "import tensorly.random as tl_rand\n",
    "import tensorly.kruskal_tensor as tl_kruskal\n",
    "import numpy as np\n",
    "import statistics\n",
    "from timeit import default_timer as timer\n",
    " \n",
    "from BLOCK_SPG_CPD import bras_CPD\n",
    "from BLOCK_SPG_CPD import ada_CPD"
   ]
  },
  {
   "cell_type": "code",
   "execution_count": 6,
   "metadata": {},
   "outputs": [],
   "source": [
    "# Set up\n",
    "rank = 100\n",
    "F = tl_rand.random_kruskal((300,300,300), rank, full=False)\n",
    "X = tl_kruskal.kruskal_to_tensor(F)\n",
    "B = 20\n",
    "b = 10**-6\n",
    "eps = 0\n",
    "eta = 1\n",
    "alpha = 0.1\n",
    "beta = 10**-6"
   ]
  },
  {
   "cell_type": "code",
   "execution_count": 43,
   "metadata": {},
   "outputs": [],
   "source": [
    "from helper import rand_init\n",
    "from helper import norm\n",
    "from helper import unfold\n",
    "\n",
    "norm_x_time = []\n",
    "norm_f_time = []\n",
    "rand_time = []\n",
    "col_time = []\n",
    "unfold_time = []\n",
    "\n",
    "for i in range(100):\n",
    "    rank = 100\n",
    "    F = tl_rand.random_kruskal((300,300,300), rank, full=False)\n",
    "    X = tl_kruskal.kruskal_to_tensor(F)\n",
    "\n",
    "    start = timer()\n",
    "    norm_x = norm(X)\n",
    "    end = timer()\n",
    "    norm_x_time.append(end-start)\n",
    "\n",
    "    start = timer()\n",
    "    F_norm = [norm(F[0]), norm(F[1]), norm(F[2])]\n",
    "    end = timer()\n",
    "    norm_f_time.append(end-start)\n",
    "\n",
    "    start = timer()\n",
    "    dim_1, dim_2, dim_3 = X.shape\n",
    "    A = [rand_init(dim_1, rank), rand_init(dim_2, rank), rand_init(dim_3, rank)]\n",
    "    end = timer()\n",
    "    rand_time.append(end-start)\n",
    "\n",
    "    start = timer()\n",
    "    total_col = {0:dim_2*dim_3, 1:dim_1*dim_3, 2:dim_1*dim_2}\n",
    "    end = timer()\n",
    "    col_time.append(end-start)\n",
    "    \n",
    "    start = timer()\n",
    "    X_unfold = [unfold(X, mode=0), unfold(X, mode=1), unfold(X, mode=2)]\n",
    "    end = timer()\n",
    "    unfold_time.append(end-start)\n",
    "    \n",
    "\n",
    "mean_x = statistics.mean(norm_x_time)\n",
    "var_x = statistics.variance(norm_x_time)\n",
    "\n",
    "mean_f = statistics.mean(norm_f_time)\n",
    "var_f = statistics.variance(norm_f_time)\n",
    "\n",
    "mean_rand = statistics.mean(rand_time)\n",
    "var_rand = statistics.variance(rand_time)\n",
    "\n",
    "mean_col = statistics.mean(col_time)\n",
    "var_col = statistics.variance(col_time)\n",
    "\n",
    "mean_unfold = statistics.mean(unfold_time)\n",
    "var_unfold = statistics.variance(unfold_time)"
   ]
  },
  {
   "cell_type": "code",
   "execution_count": 40,
   "metadata": {},
   "outputs": [
    {
     "name": "stdout",
     "output_type": "stream",
     "text": [
      "[0.015208744999972624, 0.0001594999999997526, 0.0014233750000039436, 3.823999932137667e-06, 0.2564313400000174]\n",
      "0.27322678399992584\n"
     ]
    },
    {
     "data": {
      "image/png": "[encoded data removed]",
      "text/plain": [
       "<Figure size 432x288 with 1 Axes>"
      ]
     },
     "metadata": {
      "needs_background": "light"
     },
     "output_type": "display_data"
    }
   ],
   "source": [
    "x = ['norm_x', 'norm_f', 'rand_init', 'col', 'unfold']\n",
    "y = [mean_x, mean_f, mean_rand, mean_col, mean_unfold]\n",
    "var = [var_x, var_f, var_rand, var_col, var_unfold]\n",
    "plt.ylabel('secs')\n",
    "plt.title('Average timing for each function over 100 runs')\n",
    "plt.errorbar(x,y, var,linestyle='None', marker='^')\n",
    "\n",
    "print(y)\n",
    "print(sum(y))"
   ]
  },
  {
   "cell_type": "code",
   "execution_count": 41,
   "metadata": {},
   "outputs": [
    {
     "name": "stdout",
     "output_type": "stream",
     "text": [
      "(90000, 300)\n",
      "(90000, 300)\n",
      "(90000, 300)\n"
     ]
    }
   ],
   "source": [
    "print(X_unfold[0].shape)\n",
    "print(X_unfold[1].shape)\n",
    "print(X_unfold[2].shape)"
   ]
  },
  {
   "cell_type": "code",
   "execution_count": 45,
   "metadata": {},
   "outputs": [],
   "source": [
    "from helper import rand_init\n",
    "from helper import norm\n",
    "from helper import sample\n",
    "from helper import generate_sketch_indices\n",
    "from helper import update_factor_bras\n",
    "\n",
    "sample_time = []\n",
    "sketch_time = []\n",
    "update_time = []\n",
    "alpha_time = []\n",
    "\n",
    "for r in range(100):\n",
    "    rank = 100\n",
    "    F = tl_rand.random_kruskal((300,300,300), rank, full=False)\n",
    "    X = tl_kruskal.kruskal_to_tensor(F)\n",
    "    X_unfold = [unfold(X, mode=0), unfold(X, mode=1), unfold(X, mode=2)]\n",
    "    \n",
    "    start = timer()\n",
    "    n = sample(3)\n",
    "    end = timer()\n",
    "    sample_time.append(end-start)\n",
    "\n",
    "    start = timer()\n",
    "    idx = generate_sketch_indices(B, total_col[n])\n",
    "    end = timer()\n",
    "    sketch_time.append(end-start)\n",
    "\n",
    "    start = timer()\n",
    "    update_factor_bras(X_unfold, A, idx, n, rank, alpha)\n",
    "    end = timer()\n",
    "    update_time.append(end-start)\n",
    "\n",
    "    start = timer()\n",
    "    alpha /= (r+1)**beta\n",
    "    end = timer()\n",
    "    alpha_time.append(end-start)\n",
    "\n",
    "mean_sample = statistics.mean(sample_time)\n",
    "var_sample = statistics.variance(sample_time)\n",
    "\n",
    "mean_sketch = statistics.mean(sketch_time)\n",
    "var_sketch = statistics.variance(sketch_time)\n",
    "\n",
    "mean_update = statistics.mean(update_time)\n",
    "var_update = statistics.variance(update_time)\n",
    "\n",
    "mean_alpha = statistics.mean(alpha_time)\n",
    "var_alpha = statistics.variance(alpha_time)\n",
    "    "
   ]
  },
  {
   "cell_type": "code",
   "execution_count": 51,
   "metadata": {},
   "outputs": [
    {
     "name": "stdout",
     "output_type": "stream",
     "text": [
      "[2.624400000058813e-05, 0.0035991199999807575, 0.07993915900001411, 6.571999938387307e-06]\n",
      "0.08357109499993384\n"
     ]
    },
    {
     "data": {
      "image/png": "[encoded data removed]",
      "text/plain": [
       "<Figure size 432x288 with 1 Axes>"
      ]
     },
     "metadata": {
      "needs_background": "light"
     },
     "output_type": "display_data"
    }
   ],
   "source": [
    "x = ['sample', 'sketch', 'update', 'alpha']\n",
    "y = [mean_sample, mean_sketch, mean_update, mean_alpha]\n",
    "var = [var_sample, var_sketch, var_update, var_alpha]\n",
    "plt.ylabel('secs')\n",
    "plt.title('Average timing for each function over 100 runs')\n",
    "plt.errorbar(x,y, var,linestyle='None', marker='^')\n",
    "\n",
    "print(y)\n",
    "print(sum(y))"
   ]
  },
  {
   "cell_type": "code",
   "execution_count": 10,
   "metadata": {},
   "outputs": [],
   "source": [
    "import tensorly.tenalg as tl_alg\n",
    "from helper import rand_init\n",
    "from helper import unfold\n",
    "from helper import sample\n",
    "from helper import generate_sketch_indices\n",
    "\n",
    "khatri_time = []\n",
    "grad_time = []\n",
    "update_time = []\n",
    "clip_time = []\n",
    "    \n",
    "\n",
    "for i in range(100):   \n",
    "    rank = 100\n",
    "    F = tl_rand.random_kruskal((300,300,300), rank, full=False)\n",
    "    X = tl_kruskal.kruskal_to_tensor(F)\n",
    "    dim_1, dim_2, dim_3 = X.shape\n",
    "    A = [rand_init(dim_1, rank), rand_init(dim_2, rank), rand_init(dim_3, rank)]\n",
    "    X_unfold = [unfold(X, mode=0), unfold(X, mode=1), unfold(X, mode=2)]\n",
    "    total_col = {0:dim_2*dim_3, 1:dim_1*dim_3, 2:dim_1*dim_2}\n",
    "    n = sample(3)\n",
    "    alpha = 0.1\n",
    "    idx = generate_sketch_indices(B, total_col[n])\n",
    "\n",
    "\n",
    "    start = timer()\n",
    "    H_n = (tl_alg.khatri_rao(A, skip_matrix=n))[idx, :]\n",
    "    end = timer()\n",
    "    khatri_time.append(end-start)\n",
    "\n",
    "    start = timer()\n",
    "    grad = 1/rank * (A[n] @ H_n.T @ H_n - X_unfold[n][:, idx] @ H_n)\n",
    "    end = timer()\n",
    "    grad_time.append(end-start)\n",
    "\n",
    "    start = timer()\n",
    "    A[n] -= alpha * grad\n",
    "    end = timer()\n",
    "    update_time.append(end-start)\n",
    "\n",
    "    # Apply proximal regularization constraint (A > 0)\n",
    "    start = timer()\n",
    "    A[n] = np.clip(A[n], a_min=0, a_max=None)\n",
    "    end = timer()\n",
    "    clip_time.append(end-start)\n",
    "    \n",
    "mean_khatri = statistics.mean(khatri_time)\n",
    "var_khatri = statistics.variance(khatri_time)\n",
    "\n",
    "mean_grad = statistics.mean(grad_time)\n",
    "var_grad = statistics.variance(grad_time)\n",
    "\n",
    "mean_update = statistics.mean(update_time)\n",
    "var_update = statistics.variance(update_time)\n",
    "\n",
    "mean_clip = statistics.mean(clip_time)\n",
    "var_clip = statistics.variance(clip_time)\n"
   ]
  },
  {
   "cell_type": "code",
   "execution_count": 11,
   "metadata": {},
   "outputs": [
    {
     "name": "stdout",
     "output_type": "stream",
     "text": [
      "[0.1606172489999983, 0.005633281999993187, 0.00016770399999131767, 7.723599999167164e-05]\n",
      "0.1664954709999745\n"
     ]
    },
    {
     "data": {
      "image/png": "[encoded data removed]",
      "text/plain": [
       "<Figure size 432x288 with 1 Axes>"
      ]
     },
     "metadata": {
      "needs_background": "light"
     },
     "output_type": "display_data"
    }
   ],
   "source": [
    "x = ['khatri', 'gradient', 'update', 'clip']\n",
    "y = [mean_khatri, mean_grad, mean_update , mean_clip]\n",
    "var = [var_khatri, var_grad, var_update , var_clip]\n",
    "plt.ylabel('secs')\n",
    "plt.title('Average timing for each function over 100 runs')\n",
    "plt.errorbar(x,y, var,linestyle='None', marker='^')\n",
    "\n",
    "print(y)\n",
    "print(sum(y))"
   ]
  },
  {
   "cell_type": "code",
   "execution_count": 14,
   "metadata": {},
   "outputs": [],
   "source": [
    "import tensorly.tenalg as tl_alg\n",
    "from helper import rand_init\n",
    "from helper import unfold\n",
    "from helper import sample\n",
    "from helper import generate_sketch_indices\n",
    "from helper import compute_learning_rate\n",
    "\n",
    "B = 18\n",
    "\n",
    "g_time = []\n",
    "lr_time = []\n",
    "khatri_time = []\n",
    "grad_time = []\n",
    "update_time = []\n",
    "clip_time = []\n",
    "accum_time = []\n",
    "G = [np.zeros((dim_1, rank), dtype=float),np.zeros((dim_2, rank), dtype=float),np.zeros((dim_3, rank), dtype=float)]\n",
    "for i in range(100):\n",
    "    rank = 100\n",
    "    F = tl_rand.random_kruskal((300,300,300), rank, full=False)\n",
    "    X = tl_kruskal.kruskal_to_tensor(F)\n",
    "    dim_1, dim_2, dim_3 = X.shape\n",
    "    A = [rand_init(dim_1, rank), rand_init(dim_2, rank), rand_init(dim_3, rank)]\n",
    "    X_unfold = [unfold(X, mode=0), unfold(X, mode=1), unfold(X, mode=2)]\n",
    "    total_col = {0:dim_2*dim_3, 1:dim_1*dim_3, 2:dim_1*dim_2}\n",
    "    n = sample(3)\n",
    "    alpha = 0.1\n",
    "    idx = generate_sketch_indices(B, total_col[n])\n",
    "\n",
    "#     start = timer()\n",
    "#     G = [np.zeros((dim_1, rank), dtype=float),np.zeros((dim_2, rank), dtype=float),np.zeros((dim_3, rank), dtype=float)]\n",
    "#     end = timer()\n",
    "#     g_time.append(end - start)\n",
    "\n",
    "    start = timer()\n",
    "    lr = compute_learning_rate(G[n], b, eta, eps)\n",
    "    end = timer()\n",
    "    lr_time.append(end - start)\n",
    "\n",
    "    start = timer()\n",
    "    H_n = (tl_alg.khatri_rao(A, skip_matrix=n))[idx, :]\n",
    "    end = timer()\n",
    "    khatri_time.append(end-start)\n",
    "\n",
    "    start = timer()\n",
    "    grad = 1/rank * (A[n] @ H_n.T @ H_n - X_unfold[n][:, idx] @ H_n)\n",
    "    end = timer()\n",
    "    grad_time.append(end-start)\n",
    "\n",
    "    start = timer()\n",
    "    A[n] -= lr * grad\n",
    "    end = timer()\n",
    "    update_time.append(end-start)\n",
    "\n",
    "    # Apply proximal regularization constraint (A > 0)\n",
    "    start = timer()\n",
    "    A[n] = np.clip(A[n], a_min=0, a_max=None)\n",
    "    end = timer()\n",
    "    clip_time.append(end-start)\n",
    "\n",
    "\n",
    "    # Accumulate gradient information.\n",
    "    start = timer()\n",
    "    G[n] += grad**(2)\n",
    "    end = timer()\n",
    "    accum_time.append(end-start)\n",
    "\n",
    "# mean_g = statistics.mean(g_time)\n",
    "# var_g = statistics.variance(g_time)\n",
    "\n",
    "mean_lr = statistics.mean(lr_time)\n",
    "var_lr = statistics.variance(lr_time)\n",
    "\n",
    "mean_khatri = statistics.mean(khatri_time)\n",
    "var_khatri = statistics.variance(khatri_time)\n",
    "\n",
    "mean_grad = statistics.mean(grad_time)\n",
    "var_grad = statistics.variance(grad_time)\n",
    "\n",
    "mean_update = statistics.mean(update_time)\n",
    "var_update = statistics.variance(update_time)\n",
    "\n",
    "mean_clip = statistics.mean(clip_time)\n",
    "var_clip = statistics.variance(clip_time)\n",
    "\n",
    "mean_accum = statistics.mean(accum_time)\n",
    "var_accum = statistics.variance(accum_time)\n"
   ]
  },
  {
   "cell_type": "code",
   "execution_count": 15,
   "metadata": {},
   "outputs": [
    {
     "name": "stdout",
     "output_type": "stream",
     "text": [
      "[0.000132350999629125, 0.00025206799982697704, 0.0822489260002476, 0.0006685810000635683, 0.00011050499982957262, 5.066199999419041e-05, 8.658099970489275e-05]\n",
      "0.08354967399929591\n"
     ]
    },
    {
     "data": {
      "image/png": "[encoded data removed]",
      "text/plain": [
       "<Figure size 432x288 with 1 Axes>"
      ]
     },
     "metadata": {
      "needs_background": "light"
     },
     "output_type": "display_data"
    }
   ],
   "source": [
    "x = ['caching_grad', 'lr', 'khatri', 'gradient', 'update', 'clip', 'accum']\n",
    "y = [mean_g, mean_lr, mean_khatri, mean_grad, mean_update , mean_clip, mean_accum]\n",
    "var = [var_g, var_lr, var_khatri, var_grad, var_update , var_clip, var_accum]\n",
    "plt.ylabel('secs')\n",
    "plt.title('Average timing for each function over 100 runs')\n",
    "plt.errorbar(x,y, var,linestyle='None', marker='^')\n",
    "\n",
    "print(y)\n",
    "print(sum(y))"
   ]
  },
  {
   "cell_type": "code",
   "execution_count": 16,
   "metadata": {},
   "outputs": [
    {
     "name": "stdout",
     "output_type": "stream",
     "text": [
      "[array([[0.06289171, 0.0807081 , 0.07621705, ..., 0.06911262, 0.08626151,\n",
      "        0.08879146],\n",
      "       [0.06776553, 0.08433241, 0.06169321, ..., 0.07335365, 0.06691359,\n",
      "        0.10347565],\n",
      "       [0.07158284, 0.09527654, 0.12553153, ..., 0.10498718, 0.09840934,\n",
      "        0.09334939],\n",
      "       ...,\n",
      "       [0.07813026, 0.12341986, 0.08793211, ..., 0.08552714, 0.09730446,\n",
      "        0.11687694],\n",
      "       [0.06362383, 0.07559536, 0.08827545, ..., 0.08380947, 0.09015103,\n",
      "        0.10245971],\n",
      "       [0.09242537, 0.13197627, 0.10907016, ..., 0.11508381, 0.11449586,\n",
      "        0.09700662]]), array([[0.07800609, 0.07759454, 0.12098049, ..., 0.08561316, 0.10346734,\n",
      "        0.09174429],\n",
      "       [0.07696236, 0.07718499, 0.09662724, ..., 0.07547131, 0.08308641,\n",
      "        0.0912494 ],\n",
      "       [0.11147329, 0.11399665, 0.12772685, ..., 0.09187965, 0.09374239,\n",
      "        0.07749638],\n",
      "       ...,\n",
      "       [0.04586246, 0.06604177, 0.07899404, ..., 0.05558595, 0.0580523 ,\n",
      "        0.04125636],\n",
      "       [0.09833302, 0.07647407, 0.09993055, ..., 0.08975713, 0.09125963,\n",
      "        0.09190352],\n",
      "       [0.08032878, 0.0583194 , 0.10287062, ..., 0.05852155, 0.07084153,\n",
      "        0.07619458]]), array([[0.13605011, 0.12751785, 0.16913863, ..., 0.12167232, 0.10450067,\n",
      "        0.12782738],\n",
      "       [0.11957934, 0.09746436, 0.16782719, ..., 0.09641892, 0.12069143,\n",
      "        0.13152552],\n",
      "       [0.17918204, 0.12432862, 0.11932415, ..., 0.12004769, 0.11437221,\n",
      "        0.15014877],\n",
      "       ...,\n",
      "       [0.09017355, 0.06482448, 0.08966769, ..., 0.06111513, 0.05174451,\n",
      "        0.06139209],\n",
      "       [0.10739172, 0.13372324, 0.12847418, ..., 0.11897545, 0.11908052,\n",
      "        0.10503535],\n",
      "       [0.10081255, 0.1004117 , 0.13015682, ..., 0.08136139, 0.08638015,\n",
      "        0.08897582]])]\n"
     ]
    }
   ],
   "source": [
    "print(G)"
   ]
  },
  {
   "cell_type": "code",
   "execution_count": null,
   "metadata": {},
   "outputs": [],
   "source": []
  }
 ],
 "metadata": {
  "kernelspec": {
   "display_name": "Python 3",
   "language": "python",
   "name": "python3"
  },
  "language_info": {
   "codemirror_mode": {
    "name": "ipython",
    "version": 3
   },
   "file_extension": ".py",
   "mimetype": "text/x-python",
   "name": "python",
   "nbconvert_exporter": "python",
   "pygments_lexer": "ipython3",
   "version": "3.7.3"
  }
 },
 "nbformat": 4,
 "nbformat_minor": 2
}
