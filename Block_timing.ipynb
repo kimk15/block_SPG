{
 "cells": [
  {
   "cell_type": "code",
   "execution_count": 1,
   "metadata": {},
   "outputs": [
    {
     "name": "stderr",
     "output_type": "stream",
     "text": [
      "Using numpy backend.\n"
     ]
    }
   ],
   "source": [
    "%reload_ext autoreload\n",
    "%autoreload 2\n",
    "import matplotlib.pyplot as plt\n",
    "import tensorly.random as tl_rand\n",
    "import tensorly.kruskal_tensor as tl_kruskal\n",
    "import numpy as np\n",
    "import statistics\n",
    "from timeit import default_timer as timer\n",
    " \n",
    "from BLOCK_SPG_CPD import bras_CPD\n",
    "from BLOCK_SPG_CPD import ada_CPD"
   ]
  },
  {
   "cell_type": "code",
   "execution_count": 2,
   "metadata": {},
   "outputs": [],
   "source": [
    "# Set up\n",
    "rank = 100\n",
    "F = tl_rand.random_kruskal((300,300,300), rank, full=False)\n",
    "X = tl_kruskal.kruskal_to_tensor(F)\n",
    "B = 20\n",
    "b = 10**-6\n",
    "eps = 0\n",
    "eta = 1\n",
    "alpha = 0.1\n",
    "beta = 10**-6"
   ]
  },
  {
   "cell_type": "code",
   "execution_count": 43,
   "metadata": {},
   "outputs": [],
   "source": [
    "from helper import rand_init\n",
    "from helper import norm\n",
    "from helper import unfold\n",
    "\n",
    "norm_x_time = []\n",
    "norm_f_time = []\n",
    "rand_time = []\n",
    "col_time = []\n",
    "unfold_time = []\n",
    "\n",
    "for i in range(100):\n",
    "    rank = 100\n",
    "    F = tl_rand.random_kruskal((300,300,300), rank, full=False)\n",
    "    X = tl_kruskal.kruskal_to_tensor(F)\n",
    "\n",
    "    start = timer()\n",
    "    norm_x = norm(X)\n",
    "    end = timer()\n",
    "    norm_x_time.append(end-start)\n",
    "\n",
    "    start = timer()\n",
    "    F_norm = [norm(F[0]), norm(F[1]), norm(F[2])]\n",
    "    end = timer()\n",
    "    norm_f_time.append(end-start)\n",
    "\n",
    "    start = timer()\n",
    "    dim_1, dim_2, dim_3 = X.shape\n",
    "    A = [rand_init(dim_1, rank), rand_init(dim_2, rank), rand_init(dim_3, rank)]\n",
    "    end = timer()\n",
    "    rand_time.append(end-start)\n",
    "\n",
    "    start = timer()\n",
    "    total_col = {0:dim_2*dim_3, 1:dim_1*dim_3, 2:dim_1*dim_2}\n",
    "    end = timer()\n",
    "    col_time.append(end-start)\n",
    "    \n",
    "    start = timer()\n",
    "    X_unfold = [unfold(X, mode=0), unfold(X, mode=1), unfold(X, mode=2)]\n",
    "    end = timer()\n",
    "    unfold_time.append(end-start)\n",
    "    \n",
    "\n",
    "mean_x = statistics.mean(norm_x_time)\n",
    "var_x = statistics.variance(norm_x_time)\n",
    "\n",
    "mean_f = statistics.mean(norm_f_time)\n",
    "var_f = statistics.variance(norm_f_time)\n",
    "\n",
    "mean_rand = statistics.mean(rand_time)\n",
    "var_rand = statistics.variance(rand_time)\n",
    "\n",
    "mean_col = statistics.mean(col_time)\n",
    "var_col = statistics.variance(col_time)\n",
    "\n",
    "mean_unfold = statistics.mean(unfold_time)\n",
    "var_unfold = statistics.variance(unfold_time)"
   ]
  },
  {
   "cell_type": "code",
   "execution_count": 40,
   "metadata": {},
   "outputs": [
    {
     "name": "stdout",
     "output_type": "stream",
     "text": [
      "[0.015208744999972624, 0.0001594999999997526, 0.0014233750000039436, 3.823999932137667e-06, 0.2564313400000174]\n",
      "0.27322678399992584\n"
     ]
    },
    {
     "data": {
      "image/png": "[encoded data removed]",
      "text/plain": [
       "<Figure size 432x288 with 1 Axes>"
      ]
     },
     "metadata": {
      "needs_background": "light"
     },
     "output_type": "display_data"
    }
   ],
   "source": [
    "x = ['norm_x', 'norm_f', 'rand_init', 'col', 'unfold']\n",
    "y = [mean_x, mean_f, mean_rand, mean_col, mean_unfold]\n",
    "var = [var_x, var_f, var_rand, var_col, var_unfold]\n",
    "plt.ylabel('secs')\n",
    "plt.title('Average timing for each function over 100 runs')\n",
    "plt.errorbar(x,y, var,linestyle='None', marker='^')\n",
    "\n",
    "print(y)\n",
    "print(sum(y))"
   ]
  },
  {
   "cell_type": "code",
   "execution_count": 41,
   "metadata": {},
   "outputs": [
    {
     "name": "stdout",
     "output_type": "stream",
     "text": [
      "(90000, 300)\n",
      "(90000, 300)\n",
      "(90000, 300)\n"
     ]
    }
   ],
   "source": [
    "print(X_unfold[0].shape)\n",
    "print(X_unfold[1].shape)\n",
    "print(X_unfold[2].shape)"
   ]
  },
  {
   "cell_type": "code",
   "execution_count": 45,
   "metadata": {},
   "outputs": [],
   "source": [
    "from helper import rand_init\n",
    "from helper import norm\n",
    "from helper import sample\n",
    "from helper import generate_sketch_indices\n",
    "from helper import update_factor_bras\n",
    "\n",
    "sample_time = []\n",
    "sketch_time = []\n",
    "update_time = []\n",
    "alpha_time = []\n",
    "\n",
    "for r in range(100):\n",
    "    rank = 100\n",
    "    F = tl_rand.random_kruskal((300,300,300), rank, full=False)\n",
    "    X = tl_kruskal.kruskal_to_tensor(F)\n",
    "    X_unfold = [unfold(X, mode=0), unfold(X, mode=1), unfold(X, mode=2)]\n",
    "    \n",
    "    start = timer()\n",
    "    n = sample(3)\n",
    "    end = timer()\n",
    "    sample_time.append(end-start)\n",
    "\n",
    "    start = timer()\n",
    "    idx = generate_sketch_indices(B, total_col[n])\n",
    "    end = timer()\n",
    "    sketch_time.append(end-start)\n",
    "\n",
    "    start = timer()\n",
    "    update_factor_bras(X_unfold, A, idx, n, rank, alpha)\n",
    "    end = timer()\n",
    "    update_time.append(end-start)\n",
    "\n",
    "    start = timer()\n",
    "    alpha /= (r+1)**beta\n",
    "    end = timer()\n",
    "    alpha_time.append(end-start)\n",
    "\n",
    "mean_sample = statistics.mean(sample_time)\n",
    "var_sample = statistics.variance(sample_time)\n",
    "\n",
    "mean_sketch = statistics.mean(sketch_time)\n",
    "var_sketch = statistics.variance(sketch_time)\n",
    "\n",
    "mean_update = statistics.mean(update_time)\n",
    "var_update = statistics.variance(update_time)\n",
    "\n",
    "mean_alpha = statistics.mean(alpha_time)\n",
    "var_alpha = statistics.variance(alpha_time)\n",
    "    "
   ]
  },
  {
   "cell_type": "code",
   "execution_count": 51,
   "metadata": {},
   "outputs": [
    {
     "name": "stdout",
     "output_type": "stream",
     "text": [
      "[2.624400000058813e-05, 0.0035991199999807575, 0.07993915900001411, 6.571999938387307e-06]\n",
      "0.08357109499993384\n"
     ]
    },
    {
     "data": {
      "image/png": "[encoded data removed]",
      "text/plain": [
       "<Figure size 432x288 with 1 Axes>"
      ]
     },
     "metadata": {
      "needs_background": "light"
     },
     "output_type": "display_data"
    }
   ],
   "source": [
    "x = ['sample', 'sketch', 'update', 'alpha']\n",
    "y = [mean_sample, mean_sketch, mean_update, mean_alpha]\n",
    "var = [var_sample, var_sketch, var_update, var_alpha]\n",
    "plt.ylabel('secs')\n",
    "plt.title('Average timing for each function over 100 runs')\n",
    "plt.errorbar(x,y, var,linestyle='None', marker='^')\n",
    "\n",
    "print(y)\n",
    "print(sum(y))"
   ]
  },
  {
   "cell_type": "code",
   "execution_count": 10,
   "metadata": {},
   "outputs": [],
   "source": [
    "import tensorly.tenalg as tl_alg\n",
    "from helper import rand_init\n",
    "from helper import unfold\n",
    "from helper import sample\n",
    "from helper import generate_sketch_indices\n",
    "\n",
    "khatri_time = []\n",
    "grad_time = []\n",
    "update_time = []\n",
    "clip_time = []\n",
    "    \n",
    "\n",
    "for i in range(100):   \n",
    "    rank = 100\n",
    "    F = tl_rand.random_kruskal((300,300,300), rank, full=False)\n",
    "    X = tl_kruskal.kruskal_to_tensor(F)\n",
    "    dim_1, dim_2, dim_3 = X.shape\n",
    "    A = [rand_init(dim_1, rank), rand_init(dim_2, rank), rand_init(dim_3, rank)]\n",
    "    X_unfold = [unfold(X, mode=0), unfold(X, mode=1), unfold(X, mode=2)]\n",
    "    total_col = {0:dim_2*dim_3, 1:dim_1*dim_3, 2:dim_1*dim_2}\n",
    "    n = sample(3)\n",
    "    alpha = 0.1\n",
    "    idx = generate_sketch_indices(B, total_col[n])\n",
    "\n",
    "\n",
    "    start = timer()\n",
    "    H_n = (tl_alg.khatri_rao(A, skip_matrix=n))[idx, :]\n",
    "    end = timer()\n",
    "    khatri_time.append(end-start)\n",
    "\n",
    "    start = timer()\n",
    "    grad = 1/rank * (A[n] @ H_n.T @ H_n - X_unfold[n][:, idx] @ H_n)\n",
    "    end = timer()\n",
    "    grad_time.append(end-start)\n",
    "\n",
    "    start = timer()\n",
    "    A[n] -= alpha * grad\n",
    "    end = timer()\n",
    "    update_time.append(end-start)\n",
    "\n",
    "    # Apply proximal regularization constraint (A > 0)\n",
    "    start = timer()\n",
    "    A[n] = np.clip(A[n], a_min=0, a_max=None)\n",
    "    end = timer()\n",
    "    clip_time.append(end-start)\n",
    "    \n",
    "mean_khatri = statistics.mean(khatri_time)\n",
    "var_khatri = statistics.variance(khatri_time)\n",
    "\n",
    "mean_grad = statistics.mean(grad_time)\n",
    "var_grad = statistics.variance(grad_time)\n",
    "\n",
    "mean_update = statistics.mean(update_time)\n",
    "var_update = statistics.variance(update_time)\n",
    "\n",
    "mean_clip = statistics.mean(clip_time)\n",
    "var_clip = statistics.variance(clip_time)\n"
   ]
  },
  {
   "cell_type": "code",
   "execution_count": 11,
   "metadata": {},
   "outputs": [
    {
     "name": "stdout",
     "output_type": "stream",
     "text": [
      "[0.1606172489999983, 0.005633281999993187, 0.00016770399999131767, 7.723599999167164e-05]\n",
      "0.1664954709999745\n"
     ]
    },
    {
     "data": {
      "image/png": "[encoded data removed]",
      "text/plain": [
       "<Figure size 432x288 with 1 Axes>"
      ]
     },
     "metadata": {
      "needs_background": "light"
     },
     "output_type": "display_data"
    }
   ],
   "source": [
    "x = ['khatri', 'gradient', 'update', 'clip']\n",
    "y = [mean_khatri, mean_grad, mean_update , mean_clip]\n",
    "var = [var_khatri, var_grad, var_update , var_clip]\n",
    "plt.ylabel('secs')\n",
    "plt.title('Average timing for each function over 100 runs')\n",
    "plt.errorbar(x,y, var,linestyle='None', marker='^')\n",
    "\n",
    "print(y)\n",
    "print(sum(y))"
   ]
  },
  {
   "cell_type": "code",
   "execution_count": null,
   "metadata": {},
   "outputs": [],
   "source": []
  }
 ],
 "metadata": {
  "kernelspec": {
   "display_name": "Python 3",
   "language": "python",
   "name": "python3"
  },
  "language_info": {
   "codemirror_mode": {
    "name": "ipython",
    "version": 3
   },
   "file_extension": ".py",
   "mimetype": "text/x-python",
   "name": "python",
   "nbconvert_exporter": "python",
   "pygments_lexer": "ipython3",
   "version": "3.7.3"
  }
 },
 "nbformat": 4,
 "nbformat_minor": 2
}
